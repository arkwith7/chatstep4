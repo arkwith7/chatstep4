{
 "cells": [
  {
   "cell_type": "markdown",
   "metadata": {},
   "source": [
    "# MemN으로 한국어 QA 해보기"
   ]
  },
  {
   "cell_type": "markdown",
   "metadata": {},
   "source": [
    "한국어 Babi 데이터셋에 대해서 메모리 네트워크를 테스트해보겠습니다."
   ]
  },
  {
   "cell_type": "markdown",
   "metadata": {},
   "source": [
    "## 1. 커스터마이즈드 KoNLPy 사용하기"
   ]
  },
  {
   "cell_type": "markdown",
   "metadata": {},
   "source": [
    "사실 위 문장에서 '은경이'는 사람 이름이므로 제대로 된 결과를 얻기 위해서는 '은', '경이'와 같이 글자가 분리되는 것이 아니라 '은경이' 또는 최소한 '은경'이라는 단어 토큰을 얻어야만 합니다. 이런 경우에는 형태소 분석기에 사용자 사전을 추가해줄 수 있습니다. '은경이'는 하나의 단어이기 때문에 분리하지말라고 형태소 분석기에 알려주는 것입니다.\n",
    "\n",
    "사용자 사전을 추가하는 방법은 형태소 분석기마다 다른데, 생각보다 복잡한 경우들이 많습니다. 이번 실습에서는 Customized Konlpy라는 사용자 사전 추가가 매우 쉬운 패키지를 사용합니다. 프롬프트에서 아래의 커맨드를 통해 형태소 분석기를 설치합니다."
   ]
  },
  {
   "cell_type": "code",
   "execution_count": 1,
   "metadata": {},
   "outputs": [
    {
     "name": "stderr",
     "output_type": "stream",
     "text": [
      "C:\\Users\\saint\\Anaconda3\\envs\\chat_env\\lib\\site-packages\\konlpy\\tag\\_okt.py:16: UserWarning: \"Twitter\" has changed to \"Okt\" since KoNLPy v0.4.5.\n",
      "  warn('\"Twitter\" has changed to \"Okt\" since KoNLPy v0.4.5.')\n"
     ]
    },
    {
     "data": {
      "text/plain": [
       "['은', '경이', '는', '사무실', '로', '갔습니다', '.']"
      ]
     },
     "execution_count": 1,
     "metadata": {},
     "output_type": "execute_result"
    }
   ],
   "source": [
    "from ckonlpy.tag import Twitter\n",
    "twitter = Twitter()\n",
    "twitter.morphs('은경이는 사무실로 갔습니다.')"
   ]
  },
  {
   "cell_type": "code",
   "execution_count": 2,
   "metadata": {
    "collapsed": true
   },
   "outputs": [],
   "source": [
    "twitter.add_dictionary('은경이', 'Noun')"
   ]
  },
  {
   "cell_type": "markdown",
   "metadata": {},
   "source": [
    "제대로 반영되었는지 동일한 예문을 다시 형태소 분석해봅시다."
   ]
  },
  {
   "cell_type": "code",
   "execution_count": 3,
   "metadata": {},
   "outputs": [
    {
     "data": {
      "text/plain": [
       "['은경이', '는', '사무실', '로', '갔습니다', '.']"
      ]
     },
     "execution_count": 3,
     "metadata": {},
     "output_type": "execute_result"
    }
   ],
   "source": [
    "twitter.morphs('은경이는 사무실로 갔습니다.')"
   ]
  },
  {
   "cell_type": "markdown",
   "metadata": {},
   "source": [
    "이제는 '은경이'라는 단어가 제대로 하나의 토큰으로 인식되는 것을 확인할 수 있습니다."
   ]
  },
  {
   "cell_type": "markdown",
   "metadata": {},
   "source": [
    "## 2. 한국어 Babi 데이터셋 로드와 전처리"
   ]
  },
  {
   "cell_type": "markdown",
   "metadata": {},
   "source": [
    "한국어 Babi 데이터셋은 딥러닝을 이용한 자연어 처리 입문 저자가 영어 데이터셋을 참고하여 만들었으며, 아래의 링크에서 다운로드 할 수 있습니다.\n",
    "\n",
    "훈련 데이터 : https://bit.ly/31SqtHy\n",
    "테스트 데이터 : https://bit.ly/3f7rH5g\n",
    "\n",
    "우선 필요한 도구들을 임포트합니다."
   ]
  },
  {
   "cell_type": "code",
   "execution_count": 4,
   "metadata": {},
   "outputs": [
    {
     "name": "stderr",
     "output_type": "stream",
     "text": [
      "C:\\Users\\saint\\Anaconda3\\envs\\chat_env\\lib\\site-packages\\tensorflow\\python\\framework\\dtypes.py:516: FutureWarning: Passing (type, 1) or '1type' as a synonym of type is deprecated; in a future version of numpy, it will be understood as (type, (1,)) / '(1,)type'.\n",
      "  _np_qint8 = np.dtype([(\"qint8\", np.int8, 1)])\n",
      "C:\\Users\\saint\\Anaconda3\\envs\\chat_env\\lib\\site-packages\\tensorflow\\python\\framework\\dtypes.py:517: FutureWarning: Passing (type, 1) or '1type' as a synonym of type is deprecated; in a future version of numpy, it will be understood as (type, (1,)) / '(1,)type'.\n",
      "  _np_quint8 = np.dtype([(\"quint8\", np.uint8, 1)])\n",
      "C:\\Users\\saint\\Anaconda3\\envs\\chat_env\\lib\\site-packages\\tensorflow\\python\\framework\\dtypes.py:518: FutureWarning: Passing (type, 1) or '1type' as a synonym of type is deprecated; in a future version of numpy, it will be understood as (type, (1,)) / '(1,)type'.\n",
      "  _np_qint16 = np.dtype([(\"qint16\", np.int16, 1)])\n",
      "C:\\Users\\saint\\Anaconda3\\envs\\chat_env\\lib\\site-packages\\tensorflow\\python\\framework\\dtypes.py:519: FutureWarning: Passing (type, 1) or '1type' as a synonym of type is deprecated; in a future version of numpy, it will be understood as (type, (1,)) / '(1,)type'.\n",
      "  _np_quint16 = np.dtype([(\"quint16\", np.uint16, 1)])\n",
      "C:\\Users\\saint\\Anaconda3\\envs\\chat_env\\lib\\site-packages\\tensorflow\\python\\framework\\dtypes.py:520: FutureWarning: Passing (type, 1) or '1type' as a synonym of type is deprecated; in a future version of numpy, it will be understood as (type, (1,)) / '(1,)type'.\n",
      "  _np_qint32 = np.dtype([(\"qint32\", np.int32, 1)])\n",
      "C:\\Users\\saint\\Anaconda3\\envs\\chat_env\\lib\\site-packages\\tensorflow\\python\\framework\\dtypes.py:525: FutureWarning: Passing (type, 1) or '1type' as a synonym of type is deprecated; in a future version of numpy, it will be understood as (type, (1,)) / '(1,)type'.\n",
      "  np_resource = np.dtype([(\"resource\", np.ubyte, 1)])\n",
      "C:\\Users\\saint\\Anaconda3\\envs\\chat_env\\lib\\site-packages\\tensorboard\\compat\\tensorflow_stub\\dtypes.py:541: FutureWarning: Passing (type, 1) or '1type' as a synonym of type is deprecated; in a future version of numpy, it will be understood as (type, (1,)) / '(1,)type'.\n",
      "  _np_qint8 = np.dtype([(\"qint8\", np.int8, 1)])\n",
      "C:\\Users\\saint\\Anaconda3\\envs\\chat_env\\lib\\site-packages\\tensorboard\\compat\\tensorflow_stub\\dtypes.py:542: FutureWarning: Passing (type, 1) or '1type' as a synonym of type is deprecated; in a future version of numpy, it will be understood as (type, (1,)) / '(1,)type'.\n",
      "  _np_quint8 = np.dtype([(\"quint8\", np.uint8, 1)])\n",
      "C:\\Users\\saint\\Anaconda3\\envs\\chat_env\\lib\\site-packages\\tensorboard\\compat\\tensorflow_stub\\dtypes.py:543: FutureWarning: Passing (type, 1) or '1type' as a synonym of type is deprecated; in a future version of numpy, it will be understood as (type, (1,)) / '(1,)type'.\n",
      "  _np_qint16 = np.dtype([(\"qint16\", np.int16, 1)])\n",
      "C:\\Users\\saint\\Anaconda3\\envs\\chat_env\\lib\\site-packages\\tensorboard\\compat\\tensorflow_stub\\dtypes.py:544: FutureWarning: Passing (type, 1) or '1type' as a synonym of type is deprecated; in a future version of numpy, it will be understood as (type, (1,)) / '(1,)type'.\n",
      "  _np_quint16 = np.dtype([(\"quint16\", np.uint16, 1)])\n",
      "C:\\Users\\saint\\Anaconda3\\envs\\chat_env\\lib\\site-packages\\tensorboard\\compat\\tensorflow_stub\\dtypes.py:545: FutureWarning: Passing (type, 1) or '1type' as a synonym of type is deprecated; in a future version of numpy, it will be understood as (type, (1,)) / '(1,)type'.\n",
      "  _np_qint32 = np.dtype([(\"qint32\", np.int32, 1)])\n",
      "C:\\Users\\saint\\Anaconda3\\envs\\chat_env\\lib\\site-packages\\tensorboard\\compat\\tensorflow_stub\\dtypes.py:550: FutureWarning: Passing (type, 1) or '1type' as a synonym of type is deprecated; in a future version of numpy, it will be understood as (type, (1,)) / '(1,)type'.\n",
      "  np_resource = np.dtype([(\"resource\", np.ubyte, 1)])\n"
     ]
    }
   ],
   "source": [
    "from ckonlpy.tag import Twitter\n",
    "from tensorflow.keras.utils import get_file\n",
    "from tensorflow.keras.preprocessing.sequence import pad_sequences\n",
    "from tensorflow.keras.utils import to_categorical\n",
    "import numpy as np\n",
    "from nltk import FreqDist\n",
    "from functools import reduce\n",
    "import os\n",
    "import re\n",
    "import matplotlib.pyplot as plt"
   ]
  },
  {
   "cell_type": "code",
   "execution_count": 5,
   "metadata": {
    "collapsed": true
   },
   "outputs": [],
   "source": [
    "TRAIN_FILE = os.path.join(\"qa1_single-supporting-fact_train_kor.txt\")\n",
    "TEST_FILE = os.path.join(\"qa1_single-supporting-fact_test_kor.txt\")"
   ]
  },
  {
   "cell_type": "markdown",
   "metadata": {},
   "source": [
    "훈련 데이터로부터 상위 20개의 문장을 출력합니다."
   ]
  },
  {
   "cell_type": "code",
   "execution_count": 6,
   "metadata": {},
   "outputs": [
    {
     "name": "stdout",
     "output_type": "stream",
     "text": [
      "1 필웅이는 화장실로 갔습니다.\n",
      "2 은경이는 복도로 이동했습니다.\n",
      "3 필웅이는 어디야? \t화장실\t1\n",
      "4 수종이는 복도로 복귀했습니다.\n",
      "5 경임이는 정원으로 갔습니다.\n",
      "6 수종이는 어디야? \t복도\t4\n",
      "7 은경이는 사무실로 갔습니다.\n",
      "8 경임이는 화장실로 뛰어갔습니다.\n",
      "9 수종이는 어디야? \t복도\t4\n",
      "10 필웅이는 복도로 갔습니다.\n",
      "11 수종이는 사무실로 가버렸습니다.\n",
      "12 수종이는 어디야? \t사무실\t11\n",
      "13 은경이는 정원으로 복귀했습니다.\n",
      "14 은경이는 침실로 갔습니다.\n",
      "15 경임이는 어디야? \t화장실\t8\n",
      "1 경임이는 사무실로 가버렸습니다.\n",
      "2 경임이는 화장실로 이동했습니다.\n",
      "3 경임이는 어디야? \t화장실\t2\n",
      "4 필웅이는 침실로 이동했습니다.\n",
      "5 수종이는 복도로 갔습니다.\n"
     ]
    }
   ],
   "source": [
    "i = 0\n",
    "lines = open(TRAIN_FILE , \"rb\")\n",
    "for line in lines:\n",
    "    line = line.decode(\"utf-8\").strip()\n",
    "    i = i + 1\n",
    "    print(line)\n",
    "    if i == 20:\n",
    "        break"
   ]
  },
  {
   "cell_type": "markdown",
   "metadata": {},
   "source": [
    "영어 Babi 데이터셋과 형식이 같은 것을 확인할 수 있습니다. read_data() 함수를 사용하여 훈련 데이터와 테스트 데이터를 로드합니다."
   ]
  },
  {
   "cell_type": "code",
   "execution_count": 7,
   "metadata": {
    "collapsed": true
   },
   "outputs": [],
   "source": [
    "def read_data(dir):\n",
    "    stories, questions, answers = [], [], [] # 각각 스토리, 질문, 답변을 저장할 예정\n",
    "    story_temp = [] # 현재 시점의 스토리 임시 저장\n",
    "    lines = open(dir, \"rb\")\n",
    "\n",
    "    for line in lines:\n",
    "        line = line.decode(\"utf-8\") # b' 제거\n",
    "        line = line.strip() # '\\n' 제거\n",
    "        idx, text = line.split(\" \", 1) # 맨 앞에 있는 id number 분리\n",
    "        # 여기까지는 모든 줄에 적용되는 전처리\n",
    "\n",
    "        if int(idx) == 1:\n",
    "            story_temp = []\n",
    "\n",
    "        if \"\\t\" in text: # 현재 읽는 줄이 질문 (tab) 답변 (tab)인 경우\n",
    "            question, answer, _ = text.split(\"\\t\") # 질문과 답변을 각각 저장\n",
    "            stories.append([x for x in story_temp if x]) # 지금까지의 누적 스토리를 스토리에 저장\n",
    "            questions.append(question)\n",
    "            answers.append(answer)\n",
    "\n",
    "        else: # 현재 읽는 줄이 스토리인 경우\n",
    "            story_temp.append(text) # 임시 저장\n",
    "\n",
    "    lines.close()\n",
    "    return stories, questions, answers"
   ]
  },
  {
   "cell_type": "markdown",
   "metadata": {},
   "source": [
    "def read_data(dir):\n",
    "\n",
    "  // 영어 데이터셋에 사용했던 이전 챕터의 read_data() 함수와 동일한 함수입니다.\n",
    "\n",
    "read_data() 함수는 영어 데이터셋을 사용한 이전 챕터의 실습에서 사용했던 함수와 동일합니다."
   ]
  },
  {
   "cell_type": "code",
   "execution_count": 8,
   "metadata": {
    "collapsed": true
   },
   "outputs": [],
   "source": [
    "train_data = read_data(TRAIN_FILE)\n",
    "test_data = read_data(TEST_FILE)"
   ]
  },
  {
   "cell_type": "markdown",
   "metadata": {},
   "source": [
    "훈련 데이터와 테스트 데이터가 로드되었습니다. 데이터의 구성을 확인하기 위해서 스토리, 질문, 답변을 각각 분리해서 로드해봅시다."
   ]
  },
  {
   "cell_type": "code",
   "execution_count": 9,
   "metadata": {
    "collapsed": true
   },
   "outputs": [],
   "source": [
    "train_stories, train_questions, train_answers = read_data(TRAIN_FILE)\n",
    "test_stories, test_questions, test_answers = read_data(TEST_FILE)"
   ]
  },
  {
   "cell_type": "code",
   "execution_count": 10,
   "metadata": {},
   "outputs": [
    {
     "name": "stdout",
     "output_type": "stream",
     "text": [
      "훈련용 스토리의 개수 : 10000\n",
      "훈련용 질문의 개수 : 10000\n",
      "훈련용 답변의 개수 : 10000\n",
      "테스트용 스토리의 개수 : 1000\n",
      "테스트용 질문의 개수 : 1000\n",
      "테스트용 답변의 개수 : 1000\n"
     ]
    }
   ],
   "source": [
    "print('훈련용 스토리의 개수 :', len(train_stories))\n",
    "print('훈련용 질문의 개수 :',len(train_questions))\n",
    "print('훈련용 답변의 개수 :',len(train_answers))\n",
    "print('테스트용 스토리의 개수 :',len(test_stories))\n",
    "print('테스트용 질문의 개수 :',len(test_questions))\n",
    "print('테스트용 답변의 개수 :',len(test_answers))"
   ]
  },
  {
   "cell_type": "markdown",
   "metadata": {},
   "source": [
    "임의로 3573번째 스토리, 질문, 답변을 출력해보겠습니다."
   ]
  },
  {
   "cell_type": "code",
   "execution_count": 11,
   "metadata": {},
   "outputs": [
    {
     "data": {
      "text/plain": [
       "['은경이는 부엌으로 가버렸습니다.',\n",
       " '필웅이는 사무실로 가버렸습니다.',\n",
       " '수종이는 복도로 뛰어갔습니다.',\n",
       " '은경이는 사무실로 복귀했습니다.',\n",
       " '경임이는 사무실로 이동했습니다.',\n",
       " '경임이는 침실로 갔습니다.']"
      ]
     },
     "execution_count": 11,
     "metadata": {},
     "output_type": "execute_result"
    }
   ],
   "source": [
    "train_stories[3572]"
   ]
  },
  {
   "cell_type": "code",
   "execution_count": 12,
   "metadata": {},
   "outputs": [
    {
     "data": {
      "text/plain": [
       "'은경이는 어디야? '"
      ]
     },
     "execution_count": 12,
     "metadata": {},
     "output_type": "execute_result"
    }
   ],
   "source": [
    "train_questions[3572]"
   ]
  },
  {
   "cell_type": "code",
   "execution_count": 13,
   "metadata": {},
   "outputs": [
    {
     "data": {
      "text/plain": [
       "'사무실'"
      ]
     },
     "execution_count": 13,
     "metadata": {},
     "output_type": "execute_result"
    }
   ],
   "source": [
    "train_answers[3572]"
   ]
  },
  {
   "cell_type": "markdown",
   "metadata": {},
   "source": [
    "이제 토큰화 함수를 정의하고, 이로부터 Vocabulary를 생성하는 함수를 만들어봅시다. 아래의 함수는 이전 챕터에서 영어 데이터셋에 사용했던 토큰화 함수와 동일합니다. 현재는 한국어이므로 아래의 토큰화 함수를 그대로 사용하는 것은 바람직하지는 않지만, 임시로 사용해보겠습니다. 어절 단위로 했을 때 어떤 단어들이 있는지 출력해보기 위함입니다."
   ]
  },
  {
   "cell_type": "code",
   "execution_count": 14,
   "metadata": {
    "collapsed": true
   },
   "outputs": [],
   "source": [
    "def tokenize(sent):\n",
    "    return [ x.strip() for x in re.split('(\\W+)?', sent) if x.strip()]"
   ]
  },
  {
   "cell_type": "markdown",
   "metadata": {},
   "source": [
    "이제 Vocabulary를 만드는 함수를 정의합니다."
   ]
  },
  {
   "cell_type": "code",
   "execution_count": 15,
   "metadata": {
    "collapsed": true
   },
   "outputs": [],
   "source": [
    "def preprocess_data(train_data, test_data):\n",
    "    counter = FreqDist()\n",
    "\n",
    "    # 두 문장의 story를 하나의 문장으로 통합하는 함수\n",
    "    flatten = lambda data: reduce(lambda x, y: x + y, data)\n",
    "\n",
    "    # 각 샘플의 길이를 저장하는 리스트\n",
    "    story_len = []\n",
    "    question_len = []\n",
    "\n",
    "    for stories, questions, answers in [train_data, test_data]:\n",
    "        for story in stories:\n",
    "            stories = tokenize(flatten(story)) # 스토리의 문장들을 펼친 후 토큰화\n",
    "            story_len.append(len(stories)) # 각 story의 길이 저장\n",
    "            for word in stories: # 단어 집합에 단어 추가\n",
    "                counter[word] += 1\n",
    "        for question in questions:\n",
    "            question = tokenize(question)\n",
    "            question_len.append(len(question))\n",
    "            for word in question:\n",
    "                counter[word] += 1\n",
    "        for answer in answers:\n",
    "            answer = tokenize(answer)\n",
    "            for word in answer:\n",
    "                counter[word] += 1\n",
    "\n",
    "    # 단어 집합 생성\n",
    "    word2idx = {word : (idx + 1) for idx, (word, _) in enumerate(counter.most_common())}\n",
    "    idx2word = {idx : word for word, idx in word2idx.items()}\n",
    "\n",
    "    # 가장 긴 샘플의 길이\n",
    "    story_max_len = np.max(story_len)\n",
    "    question_max_len = np.max(question_len)\n",
    "\n",
    "    return word2idx, idx2word, story_max_len, question_max_len"
   ]
  },
  {
   "cell_type": "code",
   "execution_count": 16,
   "metadata": {},
   "outputs": [
    {
     "name": "stderr",
     "output_type": "stream",
     "text": [
      "C:\\Users\\saint\\Anaconda3\\envs\\chat_env\\lib\\re.py:212: FutureWarning: split() requires a non-empty pattern match.\n",
      "  return _compile(pattern, flags).split(string, maxsplit)\n"
     ]
    }
   ],
   "source": [
    "word2idx, idx2word, story_max_len, question_max_len = preprocess_data(train_data, test_data)"
   ]
  },
  {
   "cell_type": "code",
   "execution_count": 17,
   "metadata": {},
   "outputs": [
    {
     "name": "stdout",
     "output_type": "stream",
     "text": [
      "{'.': 1, '경임이는': 2, '은경이는': 3, '수종이는': 4, '필웅이는': 5, '이동했습니다': 6, '가버렸습니다': 7, '뛰어갔습니다': 8, '복귀했습니다': 9, '갔습니다': 10, '화장실로': 11, '정원으로': 12, '복도로': 13, '어디야': 14, '?': 15, '부엌으로': 16, '사무실로': 17, '침실로': 18, '화장실': 19, '정원': 20, '사무실': 21, '침실': 22, '복도': 23, '부엌': 24}\n"
     ]
    }
   ],
   "source": [
    "print(word2idx)"
   ]
  },
  {
   "cell_type": "code",
   "execution_count": 18,
   "metadata": {
    "collapsed": true
   },
   "outputs": [],
   "source": [
    "vocab_size = len(word2idx) + 1"
   ]
  },
  {
   "cell_type": "code",
   "execution_count": 19,
   "metadata": {},
   "outputs": [
    {
     "name": "stdout",
     "output_type": "stream",
     "text": [
      "스토리의 최대 길이 : 40\n",
      "질문의 최대 길이 : 3\n"
     ]
    }
   ],
   "source": [
    "print('스토리의 최대 길이 :',story_max_len)\n",
    "print('질문의 최대 길이 :',question_max_len)"
   ]
  },
  {
   "cell_type": "code",
   "execution_count": 20,
   "metadata": {
    "collapsed": true
   },
   "outputs": [],
   "source": [
    "def vectorize(data, word2idx, story_maxlen, question_maxlen):\n",
    "    Xs, Xq, Y = [], [], []\n",
    "    flatten = lambda data: reduce(lambda x, y: x + y, data)\n",
    "\n",
    "    stories, questions, answers = data\n",
    "    for story, question, answer in zip(stories, questions, answers):\n",
    "        xs = [word2idx[w] for w in tokenize(flatten(story))]\n",
    "        xq = [word2idx[w] for w in tokenize(question)]\n",
    "        Xs.append(xs)\n",
    "        Xq.append(xq)\n",
    "        Y.append(word2idx[answer])\n",
    "\n",
    "        # 스토리와 질문은 각각의 최대 길이로 패딩\n",
    "        # 정답은 원-핫 인코딩\n",
    "    return pad_sequences(Xs, maxlen=story_maxlen),\\\n",
    "           pad_sequences(Xq, maxlen=question_maxlen),\\\n",
    "           to_categorical(Y, num_classes=len(word2idx) + 1)"
   ]
  },
  {
   "cell_type": "code",
   "execution_count": 21,
   "metadata": {
    "collapsed": true
   },
   "outputs": [],
   "source": [
    "Xstrain, Xqtrain, Ytrain = vectorize(train_data, word2idx, story_max_len, question_max_len)\n",
    "Xstest, Xqtest, Ytest = vectorize(test_data, word2idx, story_max_len, question_max_len)"
   ]
  },
  {
   "cell_type": "code",
   "execution_count": 22,
   "metadata": {},
   "outputs": [
    {
     "name": "stdout",
     "output_type": "stream",
     "text": [
      "(10000, 40) (10000, 3) (10000, 25) (1000, 40) (1000, 3) (1000, 25)\n"
     ]
    }
   ],
   "source": [
    "print(Xstrain.shape, Xqtrain.shape, Ytrain.shape, Xstest.shape, Xqtest.shape, Ytest.shape)"
   ]
  },
  {
   "cell_type": "markdown",
   "metadata": {},
   "source": [
    "## 4. 메모리 네트워크로 QA 태스크 풀기"
   ]
  },
  {
   "cell_type": "code",
   "execution_count": 23,
   "metadata": {
    "collapsed": true
   },
   "outputs": [],
   "source": [
    "from tensorflow.keras.models import Sequential, Model\n",
    "from tensorflow.keras.layers import Embedding\n",
    "from tensorflow.keras.layers import Permute, dot, add, concatenate\n",
    "from tensorflow.keras.layers import LSTM, Dense, Dropout, Input, Activation"
   ]
  },
  {
   "cell_type": "code",
   "execution_count": 31,
   "metadata": {
    "collapsed": true
   },
   "outputs": [],
   "source": [
    "# 에포크 횟수\n",
    "train_epochs = 120\n",
    "# 배치 크기\n",
    "batch_size = 32\n",
    "# 임베딩 크기\n",
    "embed_size = 50\n",
    "# LSTM의 크기\n",
    "lstm_size = 64\n",
    "# 과적합 방지 기법인 드롭아웃 적용 비율\n",
    "dropout_rate = 0.30"
   ]
  },
  {
   "cell_type": "code",
   "execution_count": 32,
   "metadata": {},
   "outputs": [
    {
     "name": "stdout",
     "output_type": "stream",
     "text": [
      "Stories : Tensor(\"input_1:0\", shape=(?, 40), dtype=float32)\n",
      "Question: Tensor(\"input_2:0\", shape=(?, 3), dtype=float32)\n"
     ]
    }
   ],
   "source": [
    "# 플레이스 홀더. 입력을 담는 변수\n",
    "input_sequence = Input((story_max_len,))\n",
    "question = Input((question_max_len,))\n",
    "\n",
    "print('Stories :', input_sequence)\n",
    "print('Question:', question)"
   ]
  },
  {
   "cell_type": "code",
   "execution_count": 34,
   "metadata": {},
   "outputs": [
    {
     "name": "stdout",
     "output_type": "stream",
     "text": [
      "WARNING:tensorflow:From C:\\Users\\saint\\Anaconda3\\envs\\chat_env\\lib\\site-packages\\tensorflow\\python\\keras\\initializers.py:119: calling RandomUniform.__init__ (from tensorflow.python.ops.init_ops) with dtype is deprecated and will be removed in a future version.\n",
      "Instructions for updating:\n",
      "Call initializer instance with the dtype argument instead of passing it to the constructor\n"
     ]
    }
   ],
   "source": [
    "# 스토리를 위한 첫번째 임베딩. 그림에서의 Embedding A\n",
    "input_encoder_m = Sequential()\n",
    "input_encoder_m.add(Embedding(input_dim=vocab_size,\n",
    "                              output_dim=embed_size))\n",
    "input_encoder_m.add(Dropout(dropout_rate))\n",
    "# 결과 : (samples, story_max_len, embedding_dim) / 샘플의 수, 문장의 최대 길이, 임베딩 벡터의 차원\n",
    "\n",
    "# 스토리를 위한 두번째 임베딩. 그림에서의 Embedding C\n",
    "# 임베딩 벡터의 차원을 question_max_len(질문의 최대 길이)로 한다.\n",
    "input_encoder_c = Sequential()\n",
    "input_encoder_c.add(Embedding(input_dim=vocab_size,\n",
    "                              output_dim=question_max_len))\n",
    "input_encoder_c.add(Dropout(dropout_rate))\n",
    "# 결과 : (samples, story_max_len, question_max_len) / 샘플의 수, 문장의 최대 길이, 질문의 최대 길이(임베딩 벡터의 차원)"
   ]
  },
  {
   "cell_type": "code",
   "execution_count": 35,
   "metadata": {
    "collapsed": true
   },
   "outputs": [],
   "source": [
    "# 질문을 위한 임베딩. 그림에서의 Embedding B\n",
    "question_encoder = Sequential()\n",
    "question_encoder.add(Embedding(input_dim=vocab_size,\n",
    "                               output_dim=embed_size,\n",
    "                               input_length=question_max_len))\n",
    "question_encoder.add(Dropout(dropout_rate))\n",
    "# 결과 : (samples, question_max_len, embedding_dim) / 샘플의 수, 질문의 최대 길이, 임베딩 벡터의 차원"
   ]
  },
  {
   "cell_type": "code",
   "execution_count": 36,
   "metadata": {},
   "outputs": [
    {
     "name": "stdout",
     "output_type": "stream",
     "text": [
      "Input encoded m Tensor(\"sequential/dropout/cond/Merge:0\", shape=(?, 40, 50), dtype=float32)\n",
      "Input encoded c Tensor(\"sequential_1/dropout_1/cond/Merge:0\", shape=(?, 40, 3), dtype=float32)\n",
      "Question encoded Tensor(\"sequential_2/dropout_2/cond/Merge:0\", shape=(?, 3, 50), dtype=float32)\n"
     ]
    }
   ],
   "source": [
    "# 실질적인 임베딩 과정\n",
    "input_encoded_m = input_encoder_m(input_sequence)\n",
    "input_encoded_c = input_encoder_c(input_sequence)\n",
    "question_encoded = question_encoder(question)\n",
    "\n",
    "print('Input encoded m', input_encoded_m)\n",
    "print('Input encoded c', input_encoded_c)\n",
    "print('Question encoded', question_encoded)"
   ]
  },
  {
   "cell_type": "code",
   "execution_count": 37,
   "metadata": {},
   "outputs": [
    {
     "name": "stdout",
     "output_type": "stream",
     "text": [
      "Match shape Tensor(\"activation/truediv:0\", shape=(?, 40, 3), dtype=float32)\n",
      "Response shape Tensor(\"permute/transpose:0\", shape=(?, 3, 40), dtype=float32)\n",
      "Answer shape Tensor(\"concatenate/concat:0\", shape=(?, 3, 90), dtype=float32)\n",
      "WARNING:tensorflow:From C:\\Users\\saint\\Anaconda3\\envs\\chat_env\\lib\\site-packages\\tensorflow\\python\\ops\\init_ops.py:1251: calling VarianceScaling.__init__ (from tensorflow.python.ops.init_ops) with dtype is deprecated and will be removed in a future version.\n",
      "Instructions for updating:\n",
      "Call initializer instance with the dtype argument instead of passing it to the constructor\n"
     ]
    }
   ],
   "source": [
    "# 스토리 단어들과 질문 단어들 간의 유사도를 구하는 과정\n",
    "# 유사도는 내적을 사용한다.\n",
    "match = dot([input_encoded_m, question_encoded], axes=-1, normalize=False)\n",
    "match = Activation('softmax')(match)\n",
    "print('Match shape', match)\n",
    "# 결과 : (samples, story_maxlen, question_max_len) / 샘플의 수, 문장의 최대 길이, 질문의 최대 길이\n",
    "\n",
    "# add the match matrix with the second input vector sequence\n",
    "response = add([match, input_encoded_c])  # (samples, story_max_len, question_max_len)\n",
    "response = Permute((2, 1))(response)  # (samples, question_max_len, story_max_len)\n",
    "print('Response shape', response)\n",
    "\n",
    "# concatenate the response vector with the question vector sequence\n",
    "answer = concatenate([response, question_encoded])\n",
    "print('Answer shape', answer)\n",
    "\n",
    "answer = LSTM(lstm_size)(answer)  # Generate tensors of shape 32\n",
    "answer = Dropout(dropout_rate)(answer)\n",
    "answer = Dense(vocab_size)(answer)  # (samples, vocab_size)\n",
    "# we output a probability distribution over the vocabulary\n",
    "answer = Activation('softmax')(answer)"
   ]
  },
  {
   "cell_type": "code",
   "execution_count": 38,
   "metadata": {},
   "outputs": [
    {
     "name": "stdout",
     "output_type": "stream",
     "text": [
      "Model: \"model\"\n",
      "__________________________________________________________________________________________________\n",
      "Layer (type)                    Output Shape         Param #     Connected to                     \n",
      "==================================================================================================\n",
      "input_1 (InputLayer)            [(None, 40)]         0                                            \n",
      "__________________________________________________________________________________________________\n",
      "input_2 (InputLayer)            [(None, 3)]          0                                            \n",
      "__________________________________________________________________________________________________\n",
      "sequential (Sequential)         multiple             1250        input_1[0][0]                    \n",
      "__________________________________________________________________________________________________\n",
      "sequential_2 (Sequential)       (None, 3, 50)        1250        input_2[0][0]                    \n",
      "__________________________________________________________________________________________________\n",
      "dot (Dot)                       (None, 40, 3)        0           sequential[1][0]                 \n",
      "                                                                 sequential_2[1][0]               \n",
      "__________________________________________________________________________________________________\n",
      "activation (Activation)         (None, 40, 3)        0           dot[0][0]                        \n",
      "__________________________________________________________________________________________________\n",
      "sequential_1 (Sequential)       multiple             75          input_1[0][0]                    \n",
      "__________________________________________________________________________________________________\n",
      "add (Add)                       (None, 40, 3)        0           activation[0][0]                 \n",
      "                                                                 sequential_1[1][0]               \n",
      "__________________________________________________________________________________________________\n",
      "permute (Permute)               (None, 3, 40)        0           add[0][0]                        \n",
      "__________________________________________________________________________________________________\n",
      "concatenate (Concatenate)       (None, 3, 90)        0           permute[0][0]                    \n",
      "                                                                 sequential_2[1][0]               \n",
      "__________________________________________________________________________________________________\n",
      "lstm (LSTM)                     (None, 64)           39680       concatenate[0][0]                \n",
      "__________________________________________________________________________________________________\n",
      "dropout_3 (Dropout)             (None, 64)           0           lstm[0][0]                       \n",
      "__________________________________________________________________________________________________\n",
      "dense (Dense)                   (None, 25)           1625        dropout_3[0][0]                  \n",
      "__________________________________________________________________________________________________\n",
      "activation_1 (Activation)       (None, 25)           0           dense[0][0]                      \n",
      "==================================================================================================\n",
      "Total params: 43,880\n",
      "Trainable params: 43,880\n",
      "Non-trainable params: 0\n",
      "__________________________________________________________________________________________________\n",
      "None\n",
      "Train on 10000 samples, validate on 1000 samples\n",
      "WARNING:tensorflow:From C:\\Users\\saint\\Anaconda3\\envs\\chat_env\\lib\\site-packages\\tensorflow\\python\\ops\\math_grad.py:1250: add_dispatch_support.<locals>.wrapper (from tensorflow.python.ops.array_ops) is deprecated and will be removed in a future version.\n",
      "Instructions for updating:\n",
      "Use tf.where in 2.0, which has the same broadcast rule as np.where\n",
      "Epoch 1/120\n",
      "10000/10000 [==============================] - 2s 248us/sample - loss: 1.8974 - acc: 0.1708 - val_loss: 1.7938 - val_acc: 0.1870\n",
      "Epoch 2/120\n",
      "10000/10000 [==============================] - 2s 172us/sample - loss: 1.7214 - acc: 0.2487 - val_loss: 1.6000 - val_acc: 0.3760\n",
      "Epoch 3/120\n",
      "10000/10000 [==============================] - 2s 164us/sample - loss: 1.5403 - acc: 0.3803 - val_loss: 1.4663 - val_acc: 0.4180\n",
      "Epoch 4/120\n",
      "10000/10000 [==============================] - 2s 166us/sample - loss: 1.4859 - acc: 0.4072 - val_loss: 1.4204 - val_acc: 0.4420\n",
      "Epoch 5/120\n",
      "10000/10000 [==============================] - 2s 165us/sample - loss: 1.4268 - acc: 0.4454 - val_loss: 1.3404 - val_acc: 0.4750\n",
      "Epoch 6/120\n",
      "10000/10000 [==============================] - 2s 166us/sample - loss: 1.3760 - acc: 0.4596 - val_loss: 1.3306 - val_acc: 0.4930\n",
      "Epoch 7/120\n",
      "10000/10000 [==============================] - 2s 166us/sample - loss: 1.3570 - acc: 0.4645 - val_loss: 1.3027 - val_acc: 0.5010\n",
      "Epoch 8/120\n",
      "10000/10000 [==============================] - 2s 170us/sample - loss: 1.3417 - acc: 0.4676 - val_loss: 1.2907 - val_acc: 0.5000\n",
      "Epoch 9/120\n",
      "10000/10000 [==============================] - 2s 166us/sample - loss: 1.3289 - acc: 0.4808 - val_loss: 1.2708 - val_acc: 0.4980\n",
      "Epoch 10/120\n",
      "10000/10000 [==============================] - 2s 185us/sample - loss: 1.3126 - acc: 0.4786 - val_loss: 1.2638 - val_acc: 0.5010\n",
      "Epoch 11/120\n",
      "10000/10000 [==============================] - 2s 173us/sample - loss: 1.2975 - acc: 0.4933 - val_loss: 1.2570 - val_acc: 0.5020\n",
      "Epoch 12/120\n",
      "10000/10000 [==============================] - 2s 226us/sample - loss: 1.2866 - acc: 0.4999 - val_loss: 1.2296 - val_acc: 0.5110\n",
      "Epoch 13/120\n",
      "10000/10000 [==============================] - 2s 184us/sample - loss: 1.2676 - acc: 0.5020 - val_loss: 1.2191 - val_acc: 0.5160\n",
      "Epoch 14/120\n",
      "10000/10000 [==============================] - 2s 176us/sample - loss: 1.2554 - acc: 0.5033 - val_loss: 1.2340 - val_acc: 0.5140\n",
      "Epoch 15/120\n",
      "10000/10000 [==============================] - 2s 164us/sample - loss: 1.2432 - acc: 0.5089 - val_loss: 1.2379 - val_acc: 0.4900\n",
      "Epoch 16/120\n",
      "10000/10000 [==============================] - 2s 160us/sample - loss: 1.2283 - acc: 0.5158 - val_loss: 1.1955 - val_acc: 0.5160\n",
      "Epoch 17/120\n",
      "10000/10000 [==============================] - 2s 160us/sample - loss: 1.2165 - acc: 0.5173 - val_loss: 1.1754 - val_acc: 0.5330\n",
      "Epoch 18/120\n",
      "10000/10000 [==============================] - 2s 156us/sample - loss: 1.1943 - acc: 0.5342 - val_loss: 1.1502 - val_acc: 0.5590\n",
      "Epoch 19/120\n",
      "10000/10000 [==============================] - 2s 152us/sample - loss: 1.1593 - acc: 0.5617 - val_loss: 1.1081 - val_acc: 0.5850\n",
      "Epoch 20/120\n",
      "10000/10000 [==============================] - 2s 162us/sample - loss: 1.1036 - acc: 0.5801 - val_loss: 1.0385 - val_acc: 0.6130\n",
      "Epoch 21/120\n",
      "10000/10000 [==============================] - 2s 157us/sample - loss: 1.0311 - acc: 0.6190 - val_loss: 0.9317 - val_acc: 0.6710\n",
      "Epoch 22/120\n",
      "10000/10000 [==============================] - 2s 169us/sample - loss: 0.9536 - acc: 0.6567 - val_loss: 0.8610 - val_acc: 0.7030\n",
      "Epoch 23/120\n",
      "10000/10000 [==============================] - 2s 160us/sample - loss: 0.8688 - acc: 0.6876 - val_loss: 0.7633 - val_acc: 0.7330\n",
      "Epoch 24/120\n",
      "10000/10000 [==============================] - 2s 160us/sample - loss: 0.8156 - acc: 0.7071 - val_loss: 0.7282 - val_acc: 0.7300\n",
      "Epoch 25/120\n",
      "10000/10000 [==============================] - 2s 189us/sample - loss: 0.7582 - acc: 0.7250 - val_loss: 0.7140 - val_acc: 0.7320\n",
      "Epoch 26/120\n",
      "10000/10000 [==============================] - 2s 185us/sample - loss: 0.7360 - acc: 0.7339 - val_loss: 0.6857 - val_acc: 0.7510\n",
      "Epoch 27/120\n",
      "10000/10000 [==============================] - 2s 181us/sample - loss: 0.7008 - acc: 0.7419 - val_loss: 0.6754 - val_acc: 0.7550\n",
      "Epoch 28/120\n",
      "10000/10000 [==============================] - 2s 178us/sample - loss: 0.6614 - acc: 0.7560 - val_loss: 0.6383 - val_acc: 0.7490\n",
      "Epoch 29/120\n",
      "10000/10000 [==============================] - 2s 179us/sample - loss: 0.6425 - acc: 0.7645 - val_loss: 0.6416 - val_acc: 0.7560\n",
      "Epoch 30/120\n",
      "10000/10000 [==============================] - 2s 172us/sample - loss: 0.6163 - acc: 0.7732 - val_loss: 0.6123 - val_acc: 0.7740\n"
     ]
    },
    {
     "name": "stdout",
     "output_type": "stream",
     "text": [
      "Epoch 31/120\n",
      "10000/10000 [==============================] - 2s 169us/sample - loss: 0.5901 - acc: 0.7825 - val_loss: 0.5834 - val_acc: 0.7870\n",
      "Epoch 32/120\n",
      "10000/10000 [==============================] - 2s 177us/sample - loss: 0.5574 - acc: 0.7962 - val_loss: 0.5651 - val_acc: 0.7910\n",
      "Epoch 33/120\n",
      "10000/10000 [==============================] - 2s 173us/sample - loss: 0.5389 - acc: 0.8042 - val_loss: 0.5556 - val_acc: 0.7970\n",
      "Epoch 34/120\n",
      "10000/10000 [==============================] - 2s 167us/sample - loss: 0.5138 - acc: 0.8099 - val_loss: 0.5124 - val_acc: 0.8170\n",
      "Epoch 35/120\n",
      "10000/10000 [==============================] - 2s 183us/sample - loss: 0.4955 - acc: 0.8148 - val_loss: 0.4820 - val_acc: 0.8280\n",
      "Epoch 36/120\n",
      "10000/10000 [==============================] - 2s 182us/sample - loss: 0.4657 - acc: 0.8301 - val_loss: 0.4659 - val_acc: 0.8350\n",
      "Epoch 37/120\n",
      "10000/10000 [==============================] - 2s 181us/sample - loss: 0.4439 - acc: 0.8349 - val_loss: 0.4491 - val_acc: 0.8330\n",
      "Epoch 38/120\n",
      "10000/10000 [==============================] - 2s 176us/sample - loss: 0.4276 - acc: 0.8430 - val_loss: 0.4297 - val_acc: 0.8440\n",
      "Epoch 39/120\n",
      "10000/10000 [==============================] - 2s 168us/sample - loss: 0.4022 - acc: 0.8504 - val_loss: 0.4139 - val_acc: 0.8460\n",
      "Epoch 40/120\n",
      "10000/10000 [==============================] - 2s 169us/sample - loss: 0.3933 - acc: 0.8507 - val_loss: 0.3931 - val_acc: 0.8500\n",
      "Epoch 41/120\n",
      "10000/10000 [==============================] - 2s 167us/sample - loss: 0.3751 - acc: 0.8615 - val_loss: 0.4033 - val_acc: 0.8580\n",
      "Epoch 42/120\n",
      "10000/10000 [==============================] - 2s 166us/sample - loss: 0.3678 - acc: 0.8621 - val_loss: 0.3862 - val_acc: 0.8560\n",
      "Epoch 43/120\n",
      "10000/10000 [==============================] - 2s 159us/sample - loss: 0.3492 - acc: 0.8707 - val_loss: 0.3773 - val_acc: 0.8630\n",
      "Epoch 44/120\n",
      "10000/10000 [==============================] - 2s 164us/sample - loss: 0.3486 - acc: 0.8687 - val_loss: 0.3770 - val_acc: 0.8670\n",
      "Epoch 45/120\n",
      "10000/10000 [==============================] - 2s 163us/sample - loss: 0.3366 - acc: 0.8731 - val_loss: 0.3662 - val_acc: 0.8680\n",
      "Epoch 46/120\n",
      "10000/10000 [==============================] - 2s 163us/sample - loss: 0.3264 - acc: 0.8766 - val_loss: 0.3723 - val_acc: 0.8620\n",
      "Epoch 47/120\n",
      "10000/10000 [==============================] - 2s 162us/sample - loss: 0.3189 - acc: 0.8819 - val_loss: 0.3637 - val_acc: 0.8580\n",
      "Epoch 48/120\n",
      "10000/10000 [==============================] - 2s 163us/sample - loss: 0.3165 - acc: 0.8799 - val_loss: 0.3602 - val_acc: 0.8680\n",
      "Epoch 49/120\n",
      "10000/10000 [==============================] - 2s 166us/sample - loss: 0.3062 - acc: 0.8850 - val_loss: 0.3655 - val_acc: 0.8610\n",
      "Epoch 50/120\n",
      "10000/10000 [==============================] - 2s 172us/sample - loss: 0.2968 - acc: 0.8907 - val_loss: 0.3458 - val_acc: 0.8690\n",
      "Epoch 51/120\n",
      "10000/10000 [==============================] - 2s 179us/sample - loss: 0.2935 - acc: 0.8914 - val_loss: 0.3444 - val_acc: 0.8690\n",
      "Epoch 52/120\n",
      "10000/10000 [==============================] - 2s 162us/sample - loss: 0.2798 - acc: 0.8971 - val_loss: 0.3326 - val_acc: 0.8780\n",
      "Epoch 53/120\n",
      "10000/10000 [==============================] - 2s 180us/sample - loss: 0.2796 - acc: 0.8979 - val_loss: 0.3290 - val_acc: 0.8710\n",
      "Epoch 54/120\n",
      "10000/10000 [==============================] - 2s 182us/sample - loss: 0.2696 - acc: 0.9014 - val_loss: 0.3178 - val_acc: 0.8740\n",
      "Epoch 55/120\n",
      "10000/10000 [==============================] - 2s 171us/sample - loss: 0.2620 - acc: 0.9039 - val_loss: 0.3227 - val_acc: 0.8730\n",
      "Epoch 56/120\n",
      "10000/10000 [==============================] - 2s 160us/sample - loss: 0.2569 - acc: 0.9051 - val_loss: 0.2994 - val_acc: 0.8830\n",
      "Epoch 57/120\n",
      "10000/10000 [==============================] - 2s 165us/sample - loss: 0.2536 - acc: 0.9070 - val_loss: 0.3017 - val_acc: 0.8890\n",
      "Epoch 58/120\n",
      "10000/10000 [==============================] - 2s 173us/sample - loss: 0.2445 - acc: 0.9099 - val_loss: 0.2985 - val_acc: 0.8860\n",
      "Epoch 59/120\n",
      "10000/10000 [==============================] - 2s 165us/sample - loss: 0.2356 - acc: 0.9142 - val_loss: 0.2865 - val_acc: 0.8930\n",
      "Epoch 60/120\n",
      "10000/10000 [==============================] - 2s 159us/sample - loss: 0.2325 - acc: 0.9150 - val_loss: 0.3065 - val_acc: 0.8860\n",
      "Epoch 61/120\n",
      "10000/10000 [==============================] - 2s 163us/sample - loss: 0.2164 - acc: 0.9231 - val_loss: 0.2663 - val_acc: 0.8940\n",
      "Epoch 62/120\n",
      "10000/10000 [==============================] - 2s 169us/sample - loss: 0.2161 - acc: 0.9221 - val_loss: 0.2728 - val_acc: 0.8920\n",
      "Epoch 63/120\n",
      "10000/10000 [==============================] - 2s 164us/sample - loss: 0.2155 - acc: 0.9254 - val_loss: 0.2638 - val_acc: 0.8980\n",
      "Epoch 64/120\n",
      "10000/10000 [==============================] - 2s 167us/sample - loss: 0.2093 - acc: 0.9240 - val_loss: 0.2660 - val_acc: 0.8960\n",
      "Epoch 65/120\n",
      "10000/10000 [==============================] - 2s 171us/sample - loss: 0.1965 - acc: 0.9282 - val_loss: 0.2902 - val_acc: 0.8920\n",
      "Epoch 66/120\n",
      "10000/10000 [==============================] - 2s 189us/sample - loss: 0.1985 - acc: 0.9293 - val_loss: 0.2693 - val_acc: 0.8980\n",
      "Epoch 67/120\n",
      "10000/10000 [==============================] - 2s 172us/sample - loss: 0.1918 - acc: 0.9290 - val_loss: 0.2676 - val_acc: 0.8920\n",
      "Epoch 68/120\n",
      "10000/10000 [==============================] - 2s 171us/sample - loss: 0.1820 - acc: 0.9337 - val_loss: 0.2676 - val_acc: 0.9020\n",
      "Epoch 69/120\n",
      "10000/10000 [==============================] - 2s 163us/sample - loss: 0.1845 - acc: 0.9332 - val_loss: 0.2475 - val_acc: 0.9000\n",
      "Epoch 70/120\n",
      "10000/10000 [==============================] - 2s 170us/sample - loss: 0.1777 - acc: 0.9395 - val_loss: 0.2548 - val_acc: 0.9020\n",
      "Epoch 71/120\n",
      "10000/10000 [==============================] - 2s 171us/sample - loss: 0.1762 - acc: 0.9351 - val_loss: 0.2553 - val_acc: 0.8980\n",
      "Epoch 72/120\n",
      "10000/10000 [==============================] - 2s 167us/sample - loss: 0.1706 - acc: 0.9388 - val_loss: 0.2498 - val_acc: 0.9020\n",
      "Epoch 73/120\n",
      "10000/10000 [==============================] - 2s 169us/sample - loss: 0.1631 - acc: 0.9422 - val_loss: 0.2591 - val_acc: 0.9020\n",
      "Epoch 74/120\n",
      "10000/10000 [==============================] - 2s 185us/sample - loss: 0.1620 - acc: 0.9438 - val_loss: 0.2607 - val_acc: 0.9100\n",
      "Epoch 75/120\n",
      "10000/10000 [==============================] - 2s 172us/sample - loss: 0.1615 - acc: 0.9423 - val_loss: 0.2572 - val_acc: 0.9050\n",
      "Epoch 76/120\n",
      "10000/10000 [==============================] - 2s 166us/sample - loss: 0.1528 - acc: 0.9450 - val_loss: 0.2569 - val_acc: 0.9100\n",
      "Epoch 77/120\n",
      "10000/10000 [==============================] - 2s 185us/sample - loss: 0.1531 - acc: 0.9453 - val_loss: 0.2441 - val_acc: 0.9110\n",
      "Epoch 78/120\n",
      "10000/10000 [==============================] - 2s 169us/sample - loss: 0.1507 - acc: 0.9475 - val_loss: 0.2446 - val_acc: 0.9100\n",
      "Epoch 79/120\n",
      "10000/10000 [==============================] - 2s 167us/sample - loss: 0.1465 - acc: 0.9473 - val_loss: 0.2511 - val_acc: 0.9130\n",
      "Epoch 80/120\n",
      "10000/10000 [==============================] - 2s 164us/sample - loss: 0.1373 - acc: 0.9510 - val_loss: 0.2501 - val_acc: 0.9170\n",
      "Epoch 81/120\n",
      "10000/10000 [==============================] - 2s 169us/sample - loss: 0.1364 - acc: 0.9525 - val_loss: 0.2566 - val_acc: 0.9080\n",
      "Epoch 82/120\n",
      "10000/10000 [==============================] - 2s 164us/sample - loss: 0.1361 - acc: 0.9535 - val_loss: 0.2392 - val_acc: 0.9140\n",
      "Epoch 83/120\n",
      "10000/10000 [==============================] - 2s 166us/sample - loss: 0.1385 - acc: 0.9531 - val_loss: 0.2387 - val_acc: 0.9170\n",
      "Epoch 84/120\n",
      "10000/10000 [==============================] - 2s 162us/sample - loss: 0.1240 - acc: 0.9549 - val_loss: 0.2569 - val_acc: 0.9150\n",
      "Epoch 85/120\n",
      "10000/10000 [==============================] - 2s 168us/sample - loss: 0.1303 - acc: 0.9531 - val_loss: 0.2552 - val_acc: 0.9140\n",
      "Epoch 86/120\n",
      "10000/10000 [==============================] - 2s 172us/sample - loss: 0.1251 - acc: 0.9541 - val_loss: 0.2330 - val_acc: 0.9230\n",
      "Epoch 87/120\n",
      "10000/10000 [==============================] - 2s 172us/sample - loss: 0.1258 - acc: 0.9553 - val_loss: 0.2525 - val_acc: 0.9180\n",
      "Epoch 88/120\n",
      "10000/10000 [==============================] - 2s 174us/sample - loss: 0.1125 - acc: 0.9578 - val_loss: 0.2569 - val_acc: 0.9150\n"
     ]
    },
    {
     "name": "stdout",
     "output_type": "stream",
     "text": [
      "Epoch 89/120\n",
      "10000/10000 [==============================] - 2s 160us/sample - loss: 0.1151 - acc: 0.9598 - val_loss: 0.2658 - val_acc: 0.9110\n",
      "Epoch 90/120\n",
      "10000/10000 [==============================] - 2s 163us/sample - loss: 0.1120 - acc: 0.9630 - val_loss: 0.2432 - val_acc: 0.9190\n",
      "Epoch 91/120\n",
      "10000/10000 [==============================] - 2s 162us/sample - loss: 0.1081 - acc: 0.9617 - val_loss: 0.2423 - val_acc: 0.9220\n",
      "Epoch 92/120\n",
      "10000/10000 [==============================] - 2s 177us/sample - loss: 0.1098 - acc: 0.9623 - val_loss: 0.2677 - val_acc: 0.9180\n",
      "Epoch 93/120\n",
      "10000/10000 [==============================] - 2s 168us/sample - loss: 0.1032 - acc: 0.9623 - val_loss: 0.2491 - val_acc: 0.9190\n",
      "Epoch 94/120\n",
      "10000/10000 [==============================] - 2s 165us/sample - loss: 0.1028 - acc: 0.9630 - val_loss: 0.2697 - val_acc: 0.9090\n",
      "Epoch 95/120\n",
      "10000/10000 [==============================] - 2s 175us/sample - loss: 0.1002 - acc: 0.9661 - val_loss: 0.2604 - val_acc: 0.9210\n",
      "Epoch 96/120\n",
      "10000/10000 [==============================] - 2s 186us/sample - loss: 0.1009 - acc: 0.9648 - val_loss: 0.2493 - val_acc: 0.9170\n",
      "Epoch 97/120\n",
      "10000/10000 [==============================] - 2s 170us/sample - loss: 0.0910 - acc: 0.9665 - val_loss: 0.2532 - val_acc: 0.9270\n",
      "Epoch 98/120\n",
      "10000/10000 [==============================] - 2s 179us/sample - loss: 0.0972 - acc: 0.9669 - val_loss: 0.2480 - val_acc: 0.9230\n",
      "Epoch 99/120\n",
      "10000/10000 [==============================] - 2s 166us/sample - loss: 0.0928 - acc: 0.9676 - val_loss: 0.2461 - val_acc: 0.9230\n",
      "Epoch 100/120\n",
      "10000/10000 [==============================] - 2s 173us/sample - loss: 0.0934 - acc: 0.9684 - val_loss: 0.2457 - val_acc: 0.9270\n",
      "Epoch 101/120\n",
      "10000/10000 [==============================] - 2s 172us/sample - loss: 0.0882 - acc: 0.9682 - val_loss: 0.2454 - val_acc: 0.9210\n",
      "Epoch 102/120\n",
      "10000/10000 [==============================] - 2s 167us/sample - loss: 0.0835 - acc: 0.9697 - val_loss: 0.2458 - val_acc: 0.9270\n",
      "Epoch 103/120\n",
      "10000/10000 [==============================] - 2s 168us/sample - loss: 0.0853 - acc: 0.9700 - val_loss: 0.2527 - val_acc: 0.9260\n",
      "Epoch 104/120\n",
      "10000/10000 [==============================] - 2s 171us/sample - loss: 0.0817 - acc: 0.9724 - val_loss: 0.2555 - val_acc: 0.9280\n",
      "Epoch 105/120\n",
      "10000/10000 [==============================] - 2s 171us/sample - loss: 0.0853 - acc: 0.9707 - val_loss: 0.2489 - val_acc: 0.9230\n",
      "Epoch 106/120\n",
      "10000/10000 [==============================] - 2s 177us/sample - loss: 0.0784 - acc: 0.9712 - val_loss: 0.2356 - val_acc: 0.9310\n",
      "Epoch 107/120\n",
      "10000/10000 [==============================] - 2s 180us/sample - loss: 0.0790 - acc: 0.9721 - val_loss: 0.2516 - val_acc: 0.9300\n",
      "Epoch 108/120\n",
      "10000/10000 [==============================] - 2s 164us/sample - loss: 0.0758 - acc: 0.9735 - val_loss: 0.2408 - val_acc: 0.9270\n",
      "Epoch 109/120\n",
      "10000/10000 [==============================] - 2s 166us/sample - loss: 0.0776 - acc: 0.9715 - val_loss: 0.2494 - val_acc: 0.9300\n",
      "Epoch 110/120\n",
      "10000/10000 [==============================] - 2s 166us/sample - loss: 0.0775 - acc: 0.9717 - val_loss: 0.2469 - val_acc: 0.9270\n",
      "Epoch 111/120\n",
      "10000/10000 [==============================] - 2s 165us/sample - loss: 0.0731 - acc: 0.9736 - val_loss: 0.2526 - val_acc: 0.9280\n",
      "Epoch 112/120\n",
      "10000/10000 [==============================] - 2s 168us/sample - loss: 0.0724 - acc: 0.9746 - val_loss: 0.2387 - val_acc: 0.9310\n",
      "Epoch 113/120\n",
      "10000/10000 [==============================] - 2s 163us/sample - loss: 0.0737 - acc: 0.9755 - val_loss: 0.2323 - val_acc: 0.9360\n",
      "Epoch 114/120\n",
      "10000/10000 [==============================] - 2s 168us/sample - loss: 0.0655 - acc: 0.9766 - val_loss: 0.2514 - val_acc: 0.9360\n",
      "Epoch 115/120\n",
      "10000/10000 [==============================] - 2s 163us/sample - loss: 0.0649 - acc: 0.9777 - val_loss: 0.2508 - val_acc: 0.9290\n",
      "Epoch 116/120\n",
      "10000/10000 [==============================] - 2s 168us/sample - loss: 0.0686 - acc: 0.9740 - val_loss: 0.2552 - val_acc: 0.9300\n",
      "Epoch 117/120\n",
      "10000/10000 [==============================] - 2s 163us/sample - loss: 0.0643 - acc: 0.9773 - val_loss: 0.2541 - val_acc: 0.9320\n",
      "Epoch 118/120\n",
      "10000/10000 [==============================] - 2s 170us/sample - loss: 0.0598 - acc: 0.9798 - val_loss: 0.2694 - val_acc: 0.9310\n",
      "Epoch 119/120\n",
      "10000/10000 [==============================] - 2s 164us/sample - loss: 0.0641 - acc: 0.9779 - val_loss: 0.2524 - val_acc: 0.9340\n",
      "Epoch 120/120\n",
      "10000/10000 [==============================] - 2s 168us/sample - loss: 0.0637 - acc: 0.9778 - val_loss: 0.2536 - val_acc: 0.9340\n"
     ]
    }
   ],
   "source": [
    "# build the final model\n",
    "model = Model([input_sequence, question], answer)\n",
    "model.compile(optimizer='rmsprop', loss='categorical_crossentropy',\n",
    "              metrics=['acc'])\n",
    "\n",
    "print(model.summary())\n",
    "\n",
    "# start training the model\n",
    "history = model.fit([Xstrain, Xqtrain],\n",
    "         Ytrain, batch_size, train_epochs,\n",
    "         validation_data=([Xstest, Xqtest], Ytest))\n",
    "\n",
    "# save model\n",
    "model.save('model.h5')"
   ]
  },
  {
   "cell_type": "code",
   "execution_count": 39,
   "metadata": {},
   "outputs": [
    {
     "name": "stdout",
     "output_type": "stream",
     "text": [
      "1000/1000 [==============================] - 0s 64us/sample - loss: 0.2536 - acc: 0.9340\n",
      "\n",
      " 테스트 정확도: 0.9340\n"
     ]
    }
   ],
   "source": [
    "print(\"\\n 테스트 정확도: %.4f\" % (model.evaluate([Xstest, Xqtest], Ytest)[1]))"
   ]
  },
  {
   "cell_type": "code",
   "execution_count": 40,
   "metadata": {},
   "outputs": [
    {
     "data": {
      "image/png": "[encoded data removed]",
      "text/plain": [
       "<Figure size 432x288 with 2 Axes>"
      ]
     },
     "metadata": {
      "needs_background": "light"
     },
     "output_type": "display_data"
    }
   ],
   "source": [
    "# plot accuracy and loss plot\n",
    "plt.subplot(211)\n",
    "plt.title(\"Accuracy\")\n",
    "plt.plot(history.history[\"acc\"], color=\"g\", label=\"train\")\n",
    "plt.plot(history.history[\"val_acc\"], color=\"b\", label=\"validation\")\n",
    "plt.legend(loc=\"best\")\n",
    "\n",
    "plt.subplot(212)\n",
    "plt.title(\"Loss\")\n",
    "plt.plot(history.history[\"loss\"], color=\"g\", label=\"train\")\n",
    "plt.plot(history.history[\"val_loss\"], color=\"b\", label=\"validation\")\n",
    "plt.legend(loc=\"best\")\n",
    "\n",
    "plt.tight_layout()\n",
    "plt.show()\n",
    "\n",
    "# labels\n",
    "ytest = np.argmax(Ytest, axis=1)\n",
    "\n",
    "# get predictions\n",
    "Ytest_ = model.predict([Xstest, Xqtest])\n",
    "ytest_ = np.argmax(Ytest_, axis=1)"
   ]
  },
  {
   "cell_type": "code",
   "execution_count": 41,
   "metadata": {},
   "outputs": [
    {
     "name": "stdout",
     "output_type": "stream",
     "text": [
      "질문                |실제값  |예측값\n",
      "---------------------------------------\n",
      "은경이는 어디야 ?          : 복도      복도\n",
      "필웅이는 어디야 ?          : 화장실     화장실\n",
      "경임이는 어디야 ?          : 부엌      부엌\n",
      "경임이는 어디야 ?          : 복도      복도\n",
      "경임이는 어디야 ?          : 부엌      부엌\n",
      "경임이는 어디야 ?          : 복도      복도\n",
      "경임이는 어디야 ?          : 정원      정원\n",
      "수종이는 어디야 ?          : 복도      복도\n",
      "경임이는 어디야 ?          : 사무실     사무실\n",
      "수종이는 어디야 ?          : 사무실     사무실\n",
      "필웅이는 어디야 ?          : 부엌      부엌\n",
      "필웅이는 어디야 ?          : 정원      정원\n",
      "수종이는 어디야 ?          : 사무실     사무실\n",
      "필웅이는 어디야 ?          : 침실      침실\n",
      "필웅이는 어디야 ?          : 침실      침실\n",
      "은경이는 어디야 ?          : 부엌      부엌\n",
      "은경이는 어디야 ?          : 정원      정원\n",
      "은경이는 어디야 ?          : 부엌      부엌\n",
      "수종이는 어디야 ?          : 사무실     사무실\n",
      "은경이는 어디야 ?          : 부엌      복도\n",
      "필웅이는 어디야 ?          : 복도      복도\n",
      "은경이는 어디야 ?          : 사무실     사무실\n",
      "은경이는 어디야 ?          : 사무실     사무실\n",
      "경임이는 어디야 ?          : 복도      복도\n",
      "수종이는 어디야 ?          : 침실      침실\n",
      "경임이는 어디야 ?          : 침실      침실\n",
      "필웅이는 어디야 ?          : 침실      침실\n",
      "수종이는 어디야 ?          : 부엌      부엌\n",
      "수종이는 어디야 ?          : 부엌      부엌\n",
      "수종이는 어디야 ?          : 부엌      사무실\n"
     ]
    }
   ],
   "source": [
    "NUM_DISPLAY = 30\n",
    "\n",
    "print(\"{:18}|{:5}|{}\".format(\"질문\", \"실제값\", \"예측값\"))\n",
    "print(39 * \"-\")\n",
    "\n",
    "for i in range(NUM_DISPLAY):\n",
    "    question = \" \".join([idx2word[x] for x in Xqtest[i].tolist()])\n",
    "    label = idx2word[ytest[i]]\n",
    "    prediction = idx2word[ytest_[i]]\n",
    "    print(\"{:20}: {:7} {}\".format(question, label, prediction))"
   ]
  },
  {
   "cell_type": "code",
   "execution_count": null,
   "metadata": {
    "collapsed": true
   },
   "outputs": [],
   "source": []
  }
 ],
 "metadata": {
  "kernelspec": {
   "display_name": "ChatApp_env",
   "language": "python",
   "name": "chat_env"
  },
  "language_info": {
   "codemirror_mode": {
    "name": "ipython",
    "version": 3
   },
   "file_extension": ".py",
   "mimetype": "text/x-python",
   "name": "python",
   "nbconvert_exporter": "python",
   "pygments_lexer": "ipython3",
   "version": "3.6.12"
  }
 },
 "nbformat": 4,
 "nbformat_minor": 2
}
